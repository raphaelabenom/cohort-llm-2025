{
 "cells": [
  {
   "cell_type": "markdown",
   "id": "9f61e2a4-5825-4dae-8873-90fac5460b2e",
   "metadata": {},
   "source": [
    "# Homework: Introduction\n"
   ]
  },
  {
   "cell_type": "markdown",
   "id": "9eea7a3f-f712-479e-8f54-d3946ffad074",
   "metadata": {},
   "source": [
    "# Q1. Running Elastic\n",
    "\n",
    "Run Elastic Search 8.17.6, and get the cluster information. If you run it on localhost, this is how you do it:\n"
   ]
  },
  {
   "cell_type": "code",
   "execution_count": 6,
   "id": "0f96960b-a5bf-42b5-87b7-b3f850433696",
   "metadata": {},
   "outputs": [],
   "source": [
    "# curl localhost:9200"
   ]
  },
  {
   "cell_type": "code",
   "execution_count": 1,
   "id": "933df3dc-602f-452d-80ad-97a9fb5ddf48",
   "metadata": {},
   "outputs": [],
   "source": [
    "from openai import OpenAI\n",
    "from elasticsearch import Elasticsearch"
   ]
  },
  {
   "cell_type": "code",
   "execution_count": 2,
   "id": "eec7a432-5dc0-4bce-a751-f18874c4967d",
   "metadata": {},
   "outputs": [],
   "source": [
    "client = OpenAI()"
   ]
  },
  {
   "cell_type": "code",
   "execution_count": 3,
   "id": "5d2a1d6f-ce6f-4912-a394-debdbe0fceb1",
   "metadata": {},
   "outputs": [],
   "source": [
    "es_client = Elasticsearch('http://localhost:9200')"
   ]
  },
  {
   "cell_type": "code",
   "execution_count": 4,
   "id": "4e895b77-9130-47f8-8890-bd2f42cd6f9c",
   "metadata": {},
   "outputs": [
    {
     "data": {
      "text/plain": [
       "ObjectApiResponse({'name': '88d45f2c446e', 'cluster_name': 'docker-cluster', 'cluster_uuid': '1L4Scm5TRPeRcCqLJEdXUw', 'version': {'number': '8.4.3', 'build_flavor': 'default', 'build_type': 'docker', 'build_hash': '42f05b9372a9a4a470db3b52817899b99a76ee73', 'build_date': '2022-10-04T07:17:24.662462378Z', 'build_snapshot': False, 'lucene_version': '9.3.0', 'minimum_wire_compatibility_version': '7.17.0', 'minimum_index_compatibility_version': '7.0.0'}, 'tagline': 'You Know, for Search'})"
      ]
     },
     "execution_count": 4,
     "metadata": {},
     "output_type": "execute_result"
    }
   ],
   "source": [
    "es_client.info()"
   ]
  },
  {
   "cell_type": "markdown",
   "id": "c7507315-c35d-4f77-a70f-cd974f8d469e",
   "metadata": {},
   "source": [
    "## Q1 Answer\n",
    "\n",
    "What's the version.build_hash value?\n",
    "<br>'build_hash': '42f05b9372a9a4a470db3b52817899b99a76ee73'\n"
   ]
  },
  {
   "cell_type": "markdown",
   "id": "d90dbe89-0513-4808-a8b2-c14dd35fb867",
   "metadata": {},
   "source": [
    "# Getting the data\n",
    "\n",
    "Now let's get the FAQ data. You can run this snippet:\n"
   ]
  },
  {
   "cell_type": "code",
   "execution_count": 5,
   "id": "42cd628c-f78d-4ab6-a5da-f71fcd75d93c",
   "metadata": {},
   "outputs": [],
   "source": [
    "import requests \n",
    "\n",
    "docs_url = 'https://github.com/DataTalksClub/llm-zoomcamp/blob/main/01-intro/documents.json?raw=1'\n",
    "docs_response = requests.get(docs_url)\n",
    "documents_raw = docs_response.json()\n",
    "\n",
    "documents = []\n",
    "\n",
    "for course in documents_raw:\n",
    "    course_name = course['course']\n",
    "\n",
    "    for doc in course['documents']:\n",
    "        doc['course'] = course_name\n",
    "        documents.append(doc)"
   ]
  },
  {
   "cell_type": "markdown",
   "id": "fc59fe4e-3606-49df-bf39-39f48089a5d6",
   "metadata": {},
   "source": [
    "# Q2. Indexing the data\n",
    "\n",
    "Index the data in the same way as was shown in the course videos. Make the course field a keyword and the rest should be text.\n",
    "<br>Don't forget to install the ElasticSearch client for Python:\n"
   ]
  },
  {
   "cell_type": "code",
   "execution_count": 6,
   "id": "5ec7a644-dd0d-4516-a855-aa512828c29f",
   "metadata": {},
   "outputs": [],
   "source": [
    "# pip install elasticsearch"
   ]
  },
  {
   "cell_type": "code",
   "execution_count": 7,
   "id": "bb102f8e-329d-46f7-8aab-0ad5dc44b980",
   "metadata": {},
   "outputs": [
    {
     "data": {
      "text/plain": [
       "{'text': \"The purpose of this document is to capture frequently asked technical questions\\nThe exact day and hour of the course will be 15th Jan 2024 at 17h00. The course will start with the first  “Office Hours'' live.1\\nSubscribe to course public Google Calendar (it works from Desktop only).\\nRegister before the course starts using this link.\\nJoin the course Telegram channel with announcements.\\nDon’t forget to register in DataTalks.Club's Slack and join the channel.\",\n",
       " 'section': 'General course-related questions',\n",
       " 'question': 'Course - When will the course start?',\n",
       " 'course': 'data-engineering-zoomcamp'}"
      ]
     },
     "execution_count": 7,
     "metadata": {},
     "output_type": "execute_result"
    }
   ],
   "source": [
    "documents[0]"
   ]
  },
  {
   "cell_type": "code",
   "execution_count": 8,
   "id": "dde01e23-a180-4b7b-b36c-7bd714eb8bf2",
   "metadata": {},
   "outputs": [
    {
     "data": {
      "text/plain": [
       "ObjectApiResponse({'acknowledged': True, 'shards_acknowledged': True, 'index': 'course-questions'})"
      ]
     },
     "execution_count": 8,
     "metadata": {},
     "output_type": "execute_result"
    }
   ],
   "source": [
    "index_settings = {\n",
    "    \"settings\": {\n",
    "        \"number_of_shards\": 1,\n",
    "        \"number_of_replicas\": 0\n",
    "    },\n",
    "    \"mappings\": {\n",
    "        \"properties\": {\n",
    "            \"text\": {\"type\": \"text\"},\n",
    "            \"section\": {\"type\": \"text\"},\n",
    "            \"question\": {\"type\": \"text\"},\n",
    "            \"course\": {\"type\": \"keyword\"} \n",
    "        }\n",
    "    }\n",
    "}\n",
    "\n",
    "index_name = \"course-questions\"\n",
    "\n",
    "es_client.indices.create(index=index_name, body=index_settings)"
   ]
  },
  {
   "cell_type": "code",
   "execution_count": 9,
   "id": "0114a7ed-111b-4cd5-9a87-11907544d91f",
   "metadata": {},
   "outputs": [],
   "source": [
    "from tqdm.auto import tqdm"
   ]
  },
  {
   "cell_type": "code",
   "execution_count": null,
   "id": "59acf4ad-61c6-4104-9423-712cbe536681",
   "metadata": {},
   "outputs": [],
   "source": [
    "for doc in tqdm(documents):\n",
    "    es_client.index(index=index_name, document=doc)"
   ]
  },
  {
   "cell_type": "markdown",
   "id": "bd1ff1d4-3df1-47b7-bff8-a660a29ed749",
   "metadata": {},
   "source": [
    "Which function do you use for adding your data to elastic?\n",
    "\n",
    "    insert\n",
    "    index\n",
    "    put\n",
    "    add\n",
    "\n",
    "## Q2. Answer\n",
    "\n",
    "index\n"
   ]
  },
  {
   "cell_type": "markdown",
   "id": "bcc527f8-945c-4f2f-b174-53759b083c56",
   "metadata": {},
   "source": [
    "# Q3. Searching\n",
    "\n",
    "Now let's search in our index.\n",
    "\n",
    "We will execute a query \"How do execute a command on a Kubernetes pod?\".\n",
    "\n",
    "Use only question and text fields and give question a boost of 4, and use \"type\": \"best_fields\".\n",
    "\n",
    "What's the score for the top ranking result?\n",
    "\n",
    "    84.50\n",
    "    64.50\n",
    "    44.50\n",
    "    24.50\n",
    "\n",
    "Look at the \\_score field.\n"
   ]
  },
  {
   "cell_type": "code",
   "execution_count": 11,
   "id": "84f13a66-f89f-4bee-9639-de11b6997798",
   "metadata": {},
   "outputs": [],
   "source": [
    "query = 'How do execute a command on a Kubernetes pod?'"
   ]
  },
  {
   "cell_type": "code",
   "execution_count": 12,
   "id": "dd77db01-69e7-4ec1-ba84-9ed1ce0dc687",
   "metadata": {},
   "outputs": [],
   "source": [
    "search_query = {\n",
    "    \"size\": 5,\n",
    "    \"query\": {\n",
    "        \"bool\": {\n",
    "            \"must\": {\n",
    "                \"multi_match\": {\n",
    "                    \"query\": query,\n",
    "                    \"fields\": [\"question^4\", \"text\"],\n",
    "                    \"type\": \"best_fields\"\n",
    "                }\n",
    "            },\n",
    "        }\n",
    "    }\n",
    "}"
   ]
  },
  {
   "cell_type": "code",
   "execution_count": 13,
   "id": "edd95c6f-70ed-4a3d-820c-b08fd25ce51e",
   "metadata": {},
   "outputs": [],
   "source": [
    "response = es_client.search(index=index_name, body=search_query)"
   ]
  },
  {
   "cell_type": "code",
   "execution_count": 14,
   "id": "c92a348c-c41c-4f7d-b2fe-c21f6ff4f220",
   "metadata": {},
   "outputs": [
    {
     "data": {
      "text/plain": [
       "{'_index': 'course-questions',\n",
       " '_id': 'LLr3eJcB3JObljsghkwx',\n",
       " '_score': 44.50556,\n",
       " '_source': {'text': 'Launch the container image in interactive mode and overriding the entrypoint, so that it starts a bash command.\\ndocker run -it --entrypoint bash <image>\\nIf the container is already running, execute a command in the specific container:\\ndocker ps (find the container-id)\\ndocker exec -it <container-id> bash\\n(Marcos MJD)',\n",
       "  'section': '5. Deploying Machine Learning Models',\n",
       "  'question': 'How do I debug a docker container?',\n",
       "  'course': 'machine-learning-zoomcamp'}}"
      ]
     },
     "execution_count": 14,
     "metadata": {},
     "output_type": "execute_result"
    }
   ],
   "source": [
    "response['hits']['hits'][0]"
   ]
  },
  {
   "cell_type": "markdown",
   "id": "551a8aa9-19ba-41bb-8910-297465b37712",
   "metadata": {},
   "source": [
    "## Q3. Answer\n",
    "\n",
    "'\\_score': 44.50556\n"
   ]
  },
  {
   "cell_type": "markdown",
   "id": "43a90879-da65-41aa-b3cc-4108eef70ddd",
   "metadata": {},
   "source": [
    "# Q4. Filtering\n",
    "\n",
    "Now ask a different question: \"How do copy a file to a Docker container?\".\n",
    "\n",
    "This time we are only interested in questions from machine-learning-zoomcamp.\n",
    "\n",
    "Return 3 results. What's the 3rd question returned by the search engine?\n",
    "\n",
    "    How do I debug a docker container?\n",
    "    How do I copy files from a different folder into docker container’s working directory?\n",
    "    How do Lambda container images work?\n",
    "    How can I annotate a graph?\n"
   ]
  },
  {
   "cell_type": "code",
   "execution_count": 15,
   "id": "1833af0d-d90f-419e-923f-5f8cb4f413f6",
   "metadata": {},
   "outputs": [],
   "source": [
    "query = 'How do copy a file to a Docker container?'"
   ]
  },
  {
   "cell_type": "code",
   "execution_count": 16,
   "id": "44e1c45b-28bf-41fc-9c4a-8fe608e373f2",
   "metadata": {},
   "outputs": [],
   "source": [
    "search_query = {\n",
    "    \"size\": 3,\n",
    "    \"query\": {\n",
    "        \"bool\": {\n",
    "            \"must\": {\n",
    "                \"multi_match\": {\n",
    "                    \"query\": query,\n",
    "                    \"fields\": [\"question^4\", \"text\"],\n",
    "                    \"type\": \"best_fields\"\n",
    "                }\n",
    "            },\n",
    "            \"filter\": {\n",
    "                \"term\": {\n",
    "                    \"course\": \"machine-learning-zoomcamp\"\n",
    "                }\n",
    "            }\n",
    "        }\n",
    "    }\n",
    "}"
   ]
  },
  {
   "cell_type": "code",
   "execution_count": 17,
   "id": "566ae48a-d8ef-41ca-aac1-189dec759fac",
   "metadata": {},
   "outputs": [],
   "source": [
    "response = es_client.search(index=index_name, body=search_query)"
   ]
  },
  {
   "cell_type": "code",
   "execution_count": 18,
   "id": "1980e14d-3dbb-4ad4-b052-d78d0f7bd1a3",
   "metadata": {},
   "outputs": [
    {
     "data": {
      "text/plain": [
       "{'_index': 'course-questions',\n",
       " '_id': 'TLr3eJcB3JObljsghkyX',\n",
       " '_score': 59.812744,\n",
       " '_source': {'text': 'You can copy files from your local machine into a Docker container using the docker cp command. Here\\'s how to do it:\\nIn the Dockerfile, you can provide the folder containing the files that you want to copy over. The basic syntax is as follows:\\nCOPY [\"src/predict.py\", \"models/xgb_model.bin\", \"./\"]\\t\\t\\t\\t\\t\\t\\t\\t\\t\\t\\tGopakumar Gopinathan',\n",
       "  'section': '5. Deploying Machine Learning Models',\n",
       "  'question': 'How do I copy files from a different folder into docker container’s working directory?',\n",
       "  'course': 'machine-learning-zoomcamp'}}"
      ]
     },
     "execution_count": 18,
     "metadata": {},
     "output_type": "execute_result"
    }
   ],
   "source": [
    "response['hits']['hits'][2]"
   ]
  },
  {
   "cell_type": "markdown",
   "id": "fd74e91a-6c8e-4d52-8547-514ff4fd814c",
   "metadata": {},
   "source": [
    "## Q4 Answer\n",
    "\n",
    "'question': 'How do I copy files from a different folder into docker container’s working directory?'\n"
   ]
  },
  {
   "cell_type": "markdown",
   "id": "5afd0f01-ad7f-4367-9e4d-9ea9bb8dc5d3",
   "metadata": {},
   "source": [
    "# Q5. Building a prompt\n",
    "\n",
    "Now we're ready to build a prompt to send to an LLM.\n",
    "\n",
    "Take the records returned from Elasticsearch in Q4 and use this template to build the context. Separate context entries by two linebreaks (\\n\\n)\n"
   ]
  },
  {
   "cell_type": "code",
   "execution_count": 20,
   "id": "b79e7812-d170-409a-9d7e-3d5a2c3f1c0f",
   "metadata": {},
   "outputs": [],
   "source": [
    "context_template = \"\"\"\n",
    "Q: {question}\n",
    "A: {text}\n",
    "\"\"\".strip()"
   ]
  },
  {
   "cell_type": "code",
   "execution_count": 19,
   "id": "c2b51d44-99e2-4d20-987d-6e1498781c5d",
   "metadata": {},
   "outputs": [
    {
     "data": {
      "text/plain": [
       "[{'_index': 'course-questions',\n",
       "  '_id': 'LLr3eJcB3JObljsghkwx',\n",
       "  '_score': 73.38676,\n",
       "  '_source': {'text': 'Launch the container image in interactive mode and overriding the entrypoint, so that it starts a bash command.\\ndocker run -it --entrypoint bash <image>\\nIf the container is already running, execute a command in the specific container:\\ndocker ps (find the container-id)\\ndocker exec -it <container-id> bash\\n(Marcos MJD)',\n",
       "   'section': '5. Deploying Machine Learning Models',\n",
       "   'question': 'How do I debug a docker container?',\n",
       "   'course': 'machine-learning-zoomcamp'}},\n",
       " {'_index': 'course-questions',\n",
       "  '_id': 'S7r3eJcB3JObljsghkyU',\n",
       "  '_score': 66.688705,\n",
       "  '_source': {'text': \"You can copy files from your local machine into a Docker container using the docker cp command. Here's how to do it:\\nTo copy a file or directory from your local machine into a running Docker container, you can use the `docker cp command`. The basic syntax is as follows:\\ndocker cp /path/to/local/file_or_directory container_id:/path/in/container\\nHrithik Kumar Advani\",\n",
       "   'section': '5. Deploying Machine Learning Models',\n",
       "   'question': 'How do I copy files from my local machine to docker container?',\n",
       "   'course': 'machine-learning-zoomcamp'}},\n",
       " {'_index': 'course-questions',\n",
       "  '_id': 'TLr3eJcB3JObljsghkyX',\n",
       "  '_score': 59.812744,\n",
       "  '_source': {'text': 'You can copy files from your local machine into a Docker container using the docker cp command. Here\\'s how to do it:\\nIn the Dockerfile, you can provide the folder containing the files that you want to copy over. The basic syntax is as follows:\\nCOPY [\"src/predict.py\", \"models/xgb_model.bin\", \"./\"]\\t\\t\\t\\t\\t\\t\\t\\t\\t\\t\\tGopakumar Gopinathan',\n",
       "   'section': '5. Deploying Machine Learning Models',\n",
       "   'question': 'How do I copy files from a different folder into docker container’s working directory?',\n",
       "   'course': 'machine-learning-zoomcamp'}}]"
      ]
     },
     "execution_count": 19,
     "metadata": {},
     "output_type": "execute_result"
    }
   ],
   "source": [
    "response['hits']['hits']"
   ]
  },
  {
   "cell_type": "code",
   "execution_count": 22,
   "id": "41d46d05-fee9-42c7-b8a7-c20f025b2c95",
   "metadata": {},
   "outputs": [],
   "source": [
    "context_entries = []\n",
    "\n",
    "for record in response['hits']['hits']:\n",
    "    source_data = record['_source']\n",
    "    question = source_data['question']\n",
    "    text = source_data['text']\n",
    "    \n",
    "    formatted_entry = context_template.format(question=question, text=text)\n",
    "    \n",
    "    context_entries.append(formatted_entry)\n",
    "\n",
    "final_context = \"\\n\\n\".join(context_entries)"
   ]
  },
  {
   "cell_type": "code",
   "execution_count": 24,
   "id": "d41b56c7-ee89-44f9-b53d-91da97928489",
   "metadata": {},
   "outputs": [
    {
     "name": "stdout",
     "output_type": "stream",
     "text": [
      "Q: How do I debug a docker container?\n",
      "A: Launch the container image in interactive mode and overriding the entrypoint, so that it starts a bash command.\n",
      "docker run -it --entrypoint bash <image>\n",
      "If the container is already running, execute a command in the specific container:\n",
      "docker ps (find the container-id)\n",
      "docker exec -it <container-id> bash\n",
      "(Marcos MJD)\n",
      "\n",
      "Q: How do I copy files from my local machine to docker container?\n",
      "A: You can copy files from your local machine into a Docker container using the docker cp command. Here's how to do it:\n",
      "To copy a file or directory from your local machine into a running Docker container, you can use the `docker cp command`. The basic syntax is as follows:\n",
      "docker cp /path/to/local/file_or_directory container_id:/path/in/container\n",
      "Hrithik Kumar Advani\n",
      "\n",
      "Q: How do I copy files from a different folder into docker container’s working directory?\n",
      "A: You can copy files from your local machine into a Docker container using the docker cp command. Here's how to do it:\n",
      "In the Dockerfile, you can provide the folder containing the files that you want to copy over. The basic syntax is as follows:\n",
      "COPY [\"src/predict.py\", \"models/xgb_model.bin\", \"./\"]\t\t\t\t\t\t\t\t\t\t\tGopakumar Gopinathan\n"
     ]
    }
   ],
   "source": [
    "print(final_context)"
   ]
  },
  {
   "cell_type": "markdown",
   "id": "0a00e483-ddd3-45e9-8a21-a3afb90cab7c",
   "metadata": {},
   "source": [
    "Now use the context you just created along with the \"How do copy a file to a Docker container?\" question to construct a prompt using the template below:\n"
   ]
  },
  {
   "cell_type": "code",
   "execution_count": 30,
   "id": "560c3e2b-4f49-4751-9a3c-98dc62e91f36",
   "metadata": {},
   "outputs": [],
   "source": [
    "prompt_template = \"\"\"\n",
    "You're a course teaching assistant. Answer the QUESTION based on the CONTEXT from the FAQ database.\n",
    "Use only the facts from the CONTEXT when answering the QUESTION.\n",
    "\n",
    "QUESTION: {question}\n",
    "\n",
    "CONTEXT:\n",
    "{context}\n",
    "\"\"\".strip()"
   ]
  },
  {
   "cell_type": "code",
   "execution_count": 32,
   "id": "bbf4a44d-2442-4cff-9ff6-ffe82b8f6d9d",
   "metadata": {},
   "outputs": [
    {
     "name": "stdout",
     "output_type": "stream",
     "text": [
      "You're a course teaching assistant. Answer the QUESTION based on the CONTEXT from the FAQ database.\n",
      "Use only the facts from the CONTEXT when answering the QUESTION.\n",
      "\n",
      "QUESTION: How do copy a file to a Docker container?\n",
      "\n",
      "CONTEXT:\n",
      "Q: How do I debug a docker container?\n",
      "A: Launch the container image in interactive mode and overriding the entrypoint, so that it starts a bash command.\n",
      "docker run -it --entrypoint bash <image>\n",
      "If the container is already running, execute a command in the specific container:\n",
      "docker ps (find the container-id)\n",
      "docker exec -it <container-id> bash\n",
      "(Marcos MJD)\n",
      "\n",
      "Q: How do I copy files from my local machine to docker container?\n",
      "A: You can copy files from your local machine into a Docker container using the docker cp command. Here's how to do it:\n",
      "To copy a file or directory from your local machine into a running Docker container, you can use the `docker cp command`. The basic syntax is as follows:\n",
      "docker cp /path/to/local/file_or_directory container_id:/path/in/container\n",
      "Hrithik Kumar Advani\n",
      "\n",
      "Q: How do I copy files from a different folder into docker container’s working directory?\n",
      "A: You can copy files from your local machine into a Docker container using the docker cp command. Here's how to do it:\n",
      "In the Dockerfile, you can provide the folder containing the files that you want to copy over. The basic syntax is as follows:\n",
      "COPY [\"src/predict.py\", \"models/xgb_model.bin\", \"./\"]\t\t\t\t\t\t\t\t\t\t\tGopakumar Gopinathan\n"
     ]
    }
   ],
   "source": [
    "print(prompt_template.format(question=query, context=final_context))"
   ]
  },
  {
   "cell_type": "markdown",
   "id": "48fbd079-2e92-4195-8795-4ec70fdafae6",
   "metadata": {},
   "source": [
    "What's the length of the resulting prompt? (use the len function)\n",
    "\n",
    "    946\n",
    "    1446\n",
    "    1946\n",
    "    2446\n"
   ]
  },
  {
   "cell_type": "code",
   "execution_count": 37,
   "id": "288e423f-944f-4cce-9a36-ca9b9b079528",
   "metadata": {},
   "outputs": [],
   "source": [
    "f_prompt = prompt_template.format(question=query, context=final_context)"
   ]
  },
  {
   "cell_type": "code",
   "execution_count": 38,
   "id": "edff94cf-a29d-4233-aac4-52345ebb09ed",
   "metadata": {},
   "outputs": [
    {
     "data": {
      "text/plain": [
       "1446"
      ]
     },
     "execution_count": 38,
     "metadata": {},
     "output_type": "execute_result"
    }
   ],
   "source": [
    "len(f_prompt)"
   ]
  },
  {
   "cell_type": "markdown",
   "id": "dd8cf695-fd39-4166-8262-4c3e3437aab4",
   "metadata": {},
   "source": [
    "## Q5. Answer\n",
    "\n",
    "length is: 1446\n"
   ]
  },
  {
   "cell_type": "markdown",
   "id": "985a3b93-df0a-42dd-b85e-1f149d1ef509",
   "metadata": {},
   "source": [
    "# Q6. Tokens\n",
    "\n",
    "When we use the OpenAI Platform, we're charged by the number of tokens we send in our prompt and receive in the response.\n",
    "\n",
    "The OpenAI python package uses tiktoken for tokenization:\n"
   ]
  },
  {
   "cell_type": "code",
   "execution_count": 34,
   "id": "6bccaf6e-31b6-4c93-a70b-eb99dca0bd70",
   "metadata": {},
   "outputs": [],
   "source": [
    "# pip install tiktoken"
   ]
  },
  {
   "cell_type": "markdown",
   "id": "331a1c06-4f25-44b6-8627-88bb0fe57a4d",
   "metadata": {},
   "source": [
    "Let's calculate the number of tokens in our query:\n"
   ]
  },
  {
   "cell_type": "code",
   "execution_count": 36,
   "id": "7082b395-6b33-4abc-ab73-866f71969145",
   "metadata": {},
   "outputs": [],
   "source": [
    "import tiktoken\n",
    "encoding = tiktoken.encoding_for_model(\"gpt-4o\")"
   ]
  },
  {
   "cell_type": "markdown",
   "id": "999997c1-a20e-4ecd-9f5b-5616243cc958",
   "metadata": {},
   "source": [
    "Use the encode function. How many tokens does our prompt have?\n",
    "\n",
    "    120\n",
    "    220\n",
    "    320\n",
    "    420\n",
    "\n",
    "Note: to decode back a token into a word, you can use the decode_single_token_bytes function:\n"
   ]
  },
  {
   "cell_type": "code",
   "execution_count": 40,
   "id": "70b886a5-c35f-41a2-a864-c306a97bc6ff",
   "metadata": {},
   "outputs": [],
   "source": [
    "tokens = encoding.encode(text=f_prompt)"
   ]
  },
  {
   "cell_type": "code",
   "execution_count": 41,
   "id": "c120a2b0-7501-4fab-ad98-378842be5740",
   "metadata": {},
   "outputs": [
    {
     "data": {
      "text/plain": [
       "320"
      ]
     },
     "execution_count": 41,
     "metadata": {},
     "output_type": "execute_result"
    }
   ],
   "source": [
    "len(tokens)"
   ]
  },
  {
   "cell_type": "markdown",
   "id": "f1e73f5c-eece-4085-ad1f-c455ad224ff0",
   "metadata": {},
   "source": [
    "## Q6. Answer\n",
    "\n",
    "320 tokens\n"
   ]
  }
 ],
 "metadata": {
  "kernelspec": {
   "display_name": "Python 3 (ipykernel)",
   "language": "python",
   "name": "python3"
  },
  "language_info": {
   "codemirror_mode": {
    "name": "ipython",
    "version": 3
   },
   "file_extension": ".py",
   "mimetype": "text/x-python",
   "name": "python",
   "nbconvert_exporter": "python",
   "pygments_lexer": "ipython3",
   "version": "3.12.1"
  }
 },
 "nbformat": 4,
 "nbformat_minor": 5
}
